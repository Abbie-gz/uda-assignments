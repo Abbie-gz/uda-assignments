{
 "cells": [
  {
   "cell_type": "code",
   "execution_count": 1,
   "metadata": {},
   "outputs": [],
   "source": [
    "import pandas as pd\n",
    "import numpy as np\n",
    "import matplotlib.pyplot as plt\n",
    "%matplotlib inline\n",
    "df_08 = pd.read_csv('data_08_v2.csv')\n",
    "df_18 = pd.read_csv('data_18_v2.csv')"
   ]
  },
  {
   "cell_type": "code",
   "execution_count": 2,
   "metadata": {},
   "outputs": [
    {
     "name": "stdout",
     "output_type": "stream",
     "text": [
      "<class 'pandas.core.frame.DataFrame'>\n",
      "RangeIndex: 987 entries, 0 to 986\n",
      "Data columns (total 14 columns):\n",
      " #   Column                Non-Null Count  Dtype  \n",
      "---  ------                --------------  -----  \n",
      " 0   Unnamed: 0            987 non-null    int64  \n",
      " 1   model                 987 non-null    object \n",
      " 2   displ                 987 non-null    float64\n",
      " 3   cyl                   987 non-null    int64  \n",
      " 4   trans                 987 non-null    object \n",
      " 5   drive                 987 non-null    object \n",
      " 6   fuel                  987 non-null    object \n",
      " 7   veh_class             987 non-null    object \n",
      " 8   air_pollution_score   987 non-null    float64\n",
      " 9   city_mpg              987 non-null    float64\n",
      " 10  hwy_mpg               987 non-null    float64\n",
      " 11  cmb_mpg               987 non-null    float64\n",
      " 12  greenhouse_gas_score  987 non-null    int64  \n",
      " 13  smartway              987 non-null    object \n",
      "dtypes: float64(5), int64(3), object(6)\n",
      "memory usage: 108.1+ KB\n"
     ]
    }
   ],
   "source": [
    "df_08.info()"
   ]
  },
  {
   "cell_type": "code",
   "execution_count": 3,
   "metadata": {},
   "outputs": [
    {
     "name": "stdout",
     "output_type": "stream",
     "text": [
      "<class 'pandas.core.frame.DataFrame'>\n",
      "RangeIndex: 832 entries, 0 to 831\n",
      "Data columns (total 14 columns):\n",
      " #   Column                Non-Null Count  Dtype  \n",
      "---  ------                --------------  -----  \n",
      " 0   Unnamed: 0            832 non-null    int64  \n",
      " 1   model                 832 non-null    object \n",
      " 2   displ                 832 non-null    float64\n",
      " 3   cyl                   832 non-null    int64  \n",
      " 4   trans                 832 non-null    object \n",
      " 5   drive                 832 non-null    object \n",
      " 6   fuel                  832 non-null    object \n",
      " 7   veh_class             832 non-null    object \n",
      " 8   air_pollution_score   832 non-null    float64\n",
      " 9   city_mpg              832 non-null    float64\n",
      " 10  hwy_mpg               832 non-null    float64\n",
      " 11  cmb_mpg               832 non-null    float64\n",
      " 12  greenhouse_gas_score  832 non-null    int64  \n",
      " 13  smartway              832 non-null    object \n",
      "dtypes: float64(5), int64(3), object(6)\n",
      "memory usage: 91.1+ KB\n"
     ]
    }
   ],
   "source": [
    "df_18.info()"
   ]
  },
  {
   "cell_type": "code",
   "execution_count": 4,
   "metadata": {},
   "outputs": [
    {
     "name": "stdout",
     "output_type": "stream",
     "text": [
      "<class 'pandas.core.frame.DataFrame'>\n",
      "RangeIndex: 987 entries, 0 to 986\n",
      "Data columns (total 14 columns):\n",
      " #   Column           Non-Null Count  Dtype  \n",
      "---  ------           --------------  -----  \n",
      " 0   Unnamed: 0_2008  987 non-null    int64  \n",
      " 1   model_2008       987 non-null    object \n",
      " 2   displ_2008       987 non-null    float64\n",
      " 3   cyl_2008         987 non-null    int64  \n",
      " 4   trans_2008       987 non-null    object \n",
      " 5   drive_2008       987 non-null    object \n",
      " 6   fuel_2008        987 non-null    object \n",
      " 7   veh_class_2008   987 non-null    object \n",
      " 8   air_pollut_2008  987 non-null    float64\n",
      " 9   city_mpg_2008    987 non-null    float64\n",
      " 10  hwy_mpg_2008     987 non-null    float64\n",
      " 11  cmb_mpg_2008     987 non-null    float64\n",
      " 12  greenhouse_2008  987 non-null    int64  \n",
      " 13  smartway_2008    987 non-null    object \n",
      "dtypes: float64(5), int64(3), object(6)\n",
      "memory usage: 108.1+ KB\n"
     ]
    }
   ],
   "source": [
    "df_08 = df_08.rename(columns=lambda x : x[:10] + \"_2008\")\n",
    "df_08.info()"
   ]
  },
  {
   "cell_type": "code",
   "execution_count": 5,
   "metadata": {},
   "outputs": [
    {
     "name": "stdout",
     "output_type": "stream",
     "text": [
      "<class 'pandas.core.frame.DataFrame'>\n",
      "Int64Index: 922 entries, 0 to 921\n",
      "Data columns (total 28 columns):\n",
      " #   Column                Non-Null Count  Dtype  \n",
      "---  ------                --------------  -----  \n",
      " 0   Unnamed: 0_2008       922 non-null    int64  \n",
      " 1   model_2008            922 non-null    object \n",
      " 2   displ_2008            922 non-null    float64\n",
      " 3   cyl_2008              922 non-null    int64  \n",
      " 4   trans_2008            922 non-null    object \n",
      " 5   drive_2008            922 non-null    object \n",
      " 6   fuel_2008             922 non-null    object \n",
      " 7   veh_class_2008        922 non-null    object \n",
      " 8   air_pollut_2008       922 non-null    float64\n",
      " 9   city_mpg_2008         922 non-null    float64\n",
      " 10  hwy_mpg_2008          922 non-null    float64\n",
      " 11  cmb_mpg_2008          922 non-null    float64\n",
      " 12  greenhouse_2008       922 non-null    int64  \n",
      " 13  smartway_2008         922 non-null    object \n",
      " 14  Unnamed: 0            922 non-null    int64  \n",
      " 15  model                 922 non-null    object \n",
      " 16  displ                 922 non-null    float64\n",
      " 17  cyl                   922 non-null    int64  \n",
      " 18  trans                 922 non-null    object \n",
      " 19  drive                 922 non-null    object \n",
      " 20  fuel                  922 non-null    object \n",
      " 21  veh_class             922 non-null    object \n",
      " 22  air_pollution_score   922 non-null    float64\n",
      " 23  city_mpg              922 non-null    float64\n",
      " 24  hwy_mpg               922 non-null    float64\n",
      " 25  cmb_mpg               922 non-null    float64\n",
      " 26  greenhouse_gas_score  922 non-null    int64  \n",
      " 27  smartway              922 non-null    object \n",
      "dtypes: float64(10), int64(6), object(12)\n",
      "memory usage: 208.9+ KB\n"
     ]
    }
   ],
   "source": [
    "df = df_08.merge(df_18, left_on = 'model_2008', right_on = 'model', how = 'inner')\n",
    "df.info()"
   ]
  },
  {
   "cell_type": "code",
   "execution_count": 8,
   "metadata": {},
   "outputs": [
    {
     "name": "stdout",
     "output_type": "stream",
     "text": [
      "<class 'pandas.core.frame.DataFrame'>\n",
      "Int64Index: 922 entries, 0 to 921\n",
      "Data columns (total 26 columns):\n",
      " #   Column                Non-Null Count  Dtype  \n",
      "---  ------                --------------  -----  \n",
      " 0   model_2008            922 non-null    object \n",
      " 1   displ_2008            922 non-null    float64\n",
      " 2   cyl_2008              922 non-null    int64  \n",
      " 3   trans_2008            922 non-null    object \n",
      " 4   drive_2008            922 non-null    object \n",
      " 5   fuel_2008             922 non-null    object \n",
      " 6   veh_class_2008        922 non-null    object \n",
      " 7   air_pollut_2008       922 non-null    float64\n",
      " 8   city_mpg_2008         922 non-null    float64\n",
      " 9   hwy_mpg_2008          922 non-null    float64\n",
      " 10  cmb_mpg_2008          922 non-null    float64\n",
      " 11  greenhouse_2008       922 non-null    int64  \n",
      " 12  smartway_2008         922 non-null    object \n",
      " 13  model                 922 non-null    object \n",
      " 14  displ                 922 non-null    float64\n",
      " 15  cyl                   922 non-null    int64  \n",
      " 16  trans                 922 non-null    object \n",
      " 17  drive                 922 non-null    object \n",
      " 18  fuel                  922 non-null    object \n",
      " 19  veh_class             922 non-null    object \n",
      " 20  air_pollution_score   922 non-null    float64\n",
      " 21  city_mpg              922 non-null    float64\n",
      " 22  hwy_mpg               922 non-null    float64\n",
      " 23  cmb_mpg               922 non-null    float64\n",
      " 24  greenhouse_gas_score  922 non-null    int64  \n",
      " 25  smartway              922 non-null    object \n",
      "dtypes: float64(10), int64(4), object(12)\n",
      "memory usage: 234.5+ KB\n"
     ]
    }
   ],
   "source": [
    "df = df.drop(columns='Unnamed: 0_2008')\n",
    "df = df.drop(columns='Unnamed: 0')\n",
    "df.info()"
   ]
  },
  {
   "cell_type": "code",
   "execution_count": 10,
   "metadata": {},
   "outputs": [],
   "source": [
    "df.to_csv('merge_data.csv')"
   ]
  },
  {
   "cell_type": "code",
   "execution_count": 11,
   "metadata": {},
   "outputs": [
    {
     "name": "stderr",
     "output_type": "stream",
     "text": [
      "E:\\Anaconda3\\envs\\py3\\lib\\site-packages\\ipykernel_launcher.py:1: FutureWarning: Indexing with multiple keys (implicitly converted to a tuple of keys) will be deprecated, use a list instead.\n",
      "  \"\"\"Entry point for launching an IPython kernel.\n"
     ]
    },
    {
     "data": {
      "text/html": [
       "<div>\n",
       "<style scoped>\n",
       "    .dataframe tbody tr th:only-of-type {\n",
       "        vertical-align: middle;\n",
       "    }\n",
       "\n",
       "    .dataframe tbody tr th {\n",
       "        vertical-align: top;\n",
       "    }\n",
       "\n",
       "    .dataframe thead th {\n",
       "        text-align: right;\n",
       "    }\n",
       "</style>\n",
       "<table border=\"1\" class=\"dataframe\">\n",
       "  <thead>\n",
       "    <tr style=\"text-align: right;\">\n",
       "      <th></th>\n",
       "      <th>cmb_mpg_2008</th>\n",
       "      <th>cmb_mpg</th>\n",
       "    </tr>\n",
       "    <tr>\n",
       "      <th>model</th>\n",
       "      <th></th>\n",
       "      <th></th>\n",
       "    </tr>\n",
       "  </thead>\n",
       "  <tbody>\n",
       "    <tr>\n",
       "      <th>ACURA RDX</th>\n",
       "      <td>19.000000</td>\n",
       "      <td>22.500000</td>\n",
       "    </tr>\n",
       "    <tr>\n",
       "      <th>AUDI A3</th>\n",
       "      <td>23.333333</td>\n",
       "      <td>28.000000</td>\n",
       "    </tr>\n",
       "    <tr>\n",
       "      <th>AUDI A4</th>\n",
       "      <td>21.000000</td>\n",
       "      <td>27.000000</td>\n",
       "    </tr>\n",
       "    <tr>\n",
       "      <th>AUDI A6</th>\n",
       "      <td>19.666667</td>\n",
       "      <td>25.666667</td>\n",
       "    </tr>\n",
       "    <tr>\n",
       "      <th>AUDI A8 L</th>\n",
       "      <td>16.500000</td>\n",
       "      <td>22.000000</td>\n",
       "    </tr>\n",
       "  </tbody>\n",
       "</table>\n",
       "</div>"
      ],
      "text/plain": [
       "           cmb_mpg_2008    cmb_mpg\n",
       "model                             \n",
       "ACURA RDX     19.000000  22.500000\n",
       "AUDI A3       23.333333  28.000000\n",
       "AUDI A4       21.000000  27.000000\n",
       "AUDI A6       19.666667  25.666667\n",
       "AUDI A8 L     16.500000  22.000000"
      ]
     },
     "execution_count": 11,
     "metadata": {},
     "output_type": "execute_result"
    }
   ],
   "source": [
    "model_mpg = df.groupby('model')['cmb_mpg_2008', 'cmb_mpg'].mean()\n",
    "model_mpg.head()"
   ]
  },
  {
   "cell_type": "code",
   "execution_count": 12,
   "metadata": {},
   "outputs": [
    {
     "data": {
      "text/html": [
       "<div>\n",
       "<style scoped>\n",
       "    .dataframe tbody tr th:only-of-type {\n",
       "        vertical-align: middle;\n",
       "    }\n",
       "\n",
       "    .dataframe tbody tr th {\n",
       "        vertical-align: top;\n",
       "    }\n",
       "\n",
       "    .dataframe thead th {\n",
       "        text-align: right;\n",
       "    }\n",
       "</style>\n",
       "<table border=\"1\" class=\"dataframe\">\n",
       "  <thead>\n",
       "    <tr style=\"text-align: right;\">\n",
       "      <th></th>\n",
       "      <th>cmb_mpg_2008</th>\n",
       "      <th>cmb_mpg</th>\n",
       "      <th>mpg_change</th>\n",
       "    </tr>\n",
       "    <tr>\n",
       "      <th>model</th>\n",
       "      <th></th>\n",
       "      <th></th>\n",
       "      <th></th>\n",
       "    </tr>\n",
       "  </thead>\n",
       "  <tbody>\n",
       "    <tr>\n",
       "      <th>ACURA RDX</th>\n",
       "      <td>19.000000</td>\n",
       "      <td>22.500000</td>\n",
       "      <td>3.500000</td>\n",
       "    </tr>\n",
       "    <tr>\n",
       "      <th>AUDI A3</th>\n",
       "      <td>23.333333</td>\n",
       "      <td>28.000000</td>\n",
       "      <td>4.666667</td>\n",
       "    </tr>\n",
       "    <tr>\n",
       "      <th>AUDI A4</th>\n",
       "      <td>21.000000</td>\n",
       "      <td>27.000000</td>\n",
       "      <td>6.000000</td>\n",
       "    </tr>\n",
       "    <tr>\n",
       "      <th>AUDI A6</th>\n",
       "      <td>19.666667</td>\n",
       "      <td>25.666667</td>\n",
       "      <td>6.000000</td>\n",
       "    </tr>\n",
       "    <tr>\n",
       "      <th>AUDI A8 L</th>\n",
       "      <td>16.500000</td>\n",
       "      <td>22.000000</td>\n",
       "      <td>5.500000</td>\n",
       "    </tr>\n",
       "  </tbody>\n",
       "</table>\n",
       "</div>"
      ],
      "text/plain": [
       "           cmb_mpg_2008    cmb_mpg  mpg_change\n",
       "model                                         \n",
       "ACURA RDX     19.000000  22.500000    3.500000\n",
       "AUDI A3       23.333333  28.000000    4.666667\n",
       "AUDI A4       21.000000  27.000000    6.000000\n",
       "AUDI A6       19.666667  25.666667    6.000000\n",
       "AUDI A8 L     16.500000  22.000000    5.500000"
      ]
     },
     "execution_count": 12,
     "metadata": {},
     "output_type": "execute_result"
    }
   ],
   "source": [
    "model_mpg['mpg_change'] = model_mpg['cmb_mpg'] - model_mpg['cmb_mpg_2008']\n",
    "model_mpg.head()"
   ]
  },
  {
   "cell_type": "code",
   "execution_count": 13,
   "metadata": {},
   "outputs": [
    {
     "data": {
      "text/html": [
       "<div>\n",
       "<style scoped>\n",
       "    .dataframe tbody tr th:only-of-type {\n",
       "        vertical-align: middle;\n",
       "    }\n",
       "\n",
       "    .dataframe tbody tr th {\n",
       "        vertical-align: top;\n",
       "    }\n",
       "\n",
       "    .dataframe thead th {\n",
       "        text-align: right;\n",
       "    }\n",
       "</style>\n",
       "<table border=\"1\" class=\"dataframe\">\n",
       "  <thead>\n",
       "    <tr style=\"text-align: right;\">\n",
       "      <th></th>\n",
       "      <th>cmb_mpg_2008</th>\n",
       "      <th>cmb_mpg</th>\n",
       "      <th>mpg_change</th>\n",
       "    </tr>\n",
       "    <tr>\n",
       "      <th>model</th>\n",
       "      <th></th>\n",
       "      <th></th>\n",
       "      <th></th>\n",
       "    </tr>\n",
       "  </thead>\n",
       "  <tbody>\n",
       "    <tr>\n",
       "      <th>VOLVO XC 90</th>\n",
       "      <td>15.666667</td>\n",
       "      <td>32.2</td>\n",
       "      <td>16.533333</td>\n",
       "    </tr>\n",
       "  </tbody>\n",
       "</table>\n",
       "</div>"
      ],
      "text/plain": [
       "             cmb_mpg_2008  cmb_mpg  mpg_change\n",
       "model                                         \n",
       "VOLVO XC 90     15.666667     32.2   16.533333"
      ]
     },
     "execution_count": 13,
     "metadata": {},
     "output_type": "execute_result"
    }
   ],
   "source": [
    "model_mpg[model_mpg['mpg_change'] == model_mpg['mpg_change'].max()]"
   ]
  },
  {
   "cell_type": "code",
   "execution_count": 14,
   "metadata": {},
   "outputs": [
    {
     "data": {
      "text/plain": [
       "'VOLVO XC 90'"
      ]
     },
     "execution_count": 14,
     "metadata": {},
     "output_type": "execute_result"
    }
   ],
   "source": [
    "idx = model_mpg.mpg_change.idxmax()\n",
    "idx"
   ]
  },
  {
   "cell_type": "code",
   "execution_count": 15,
   "metadata": {},
   "outputs": [
    {
     "data": {
      "text/plain": [
       "cmb_mpg_2008    15.666667\n",
       "cmb_mpg         32.200000\n",
       "mpg_change      16.533333\n",
       "Name: VOLVO XC 90, dtype: float64"
      ]
     },
     "execution_count": 15,
     "metadata": {},
     "output_type": "execute_result"
    }
   ],
   "source": [
    "model_mpg.loc[idx]"
   ]
  },
  {
   "cell_type": "code",
   "execution_count": null,
   "metadata": {},
   "outputs": [],
   "source": []
  },
  {
   "cell_type": "code",
   "execution_count": null,
   "metadata": {},
   "outputs": [],
   "source": []
  }
 ],
 "metadata": {
  "kernelspec": {
   "display_name": "Python 3",
   "language": "python",
   "name": "python3"
  },
  "language_info": {
   "codemirror_mode": {
    "name": "ipython",
    "version": 3
   },
   "file_extension": ".py",
   "mimetype": "text/x-python",
   "name": "python",
   "nbconvert_exporter": "python",
   "pygments_lexer": "ipython3",
   "version": "3.7.6"
  }
 },
 "nbformat": 4,
 "nbformat_minor": 4
}
